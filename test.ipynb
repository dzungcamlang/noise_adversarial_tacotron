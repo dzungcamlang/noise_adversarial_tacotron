{
 "cells": [
  {
   "cell_type": "code",
   "execution_count": 1,
   "outputs": [],
   "source": [
    "import torch\n",
    "from synthesis import Synthesizer\n",
    "import hp"
   ],
   "metadata": {
    "collapsed": false,
    "pycharm": {
     "name": "#%%\n",
     "is_executing": false
    }
   }
  },
  {
   "cell_type": "code",
   "execution_count": 2,
   "outputs": [
    {
     "name": "stdout",
     "text": [
      "\nInitialising Tacotron Model...\n\n",
      "Trainable Parameters: 10.921M\n\nInitializing STFT Model...\n\n",
      "\nLoading Weights: \"log/checkpoint/checkpoint_24k.pyt\"\n\n+---------------+-------------+------+------+\n| Tacotron(r=5) | Sample Rate | NFFT | NMel |\n+---------------+-------------+------+------+\n|      24k      |    16000    | 2048 |  80  |\n+---------------+-------------+------+------+\n \n"
     ],
     "output_type": "stream"
    }
   ],
   "source": [
    "synthesizer = Synthesizer(checkpoint_path=\"log/checkpoint/checkpoint_24k.pyt\")"
   ],
   "metadata": {
    "collapsed": false,
    "pycharm": {
     "name": "#%%\n",
     "is_executing": false
    }
   }
  },
  {
   "cell_type": "code",
   "execution_count": 5,
   "outputs": [
    {
     "name": "stdout",
     "text": [
      "[1, 1025, 240]\n"
     ],
     "output_type": "stream"
    }
   ],
   "source": [
    "synthesizer.synthesis(\"What do you want from the city counsel?\")"
   ],
   "metadata": {
    "collapsed": false,
    "pycharm": {
     "name": "#%%\n",
     "is_executing": false
    }
   }
  },
  {
   "cell_type": "code",
   "execution_count": null,
   "outputs": [],
   "source": [],
   "metadata": {
    "collapsed": false,
    "pycharm": {
     "name": "#%%\n"
    }
   }
  }
 ],
 "metadata": {
  "language_info": {
   "codemirror_mode": {
    "name": "ipython",
    "version": 2
   },
   "file_extension": ".py",
   "mimetype": "text/x-python",
   "name": "python",
   "nbconvert_exporter": "python",
   "pygments_lexer": "ipython2",
   "version": "2.7.6"
  },
  "kernelspec": {
   "name": "python3",
   "language": "python",
   "display_name": "Python 3"
  },
  "pycharm": {
   "stem_cell": {
    "cell_type": "raw",
    "source": [],
    "metadata": {
     "collapsed": false
    }
   }
  }
 },
 "nbformat": 4,
 "nbformat_minor": 0
}