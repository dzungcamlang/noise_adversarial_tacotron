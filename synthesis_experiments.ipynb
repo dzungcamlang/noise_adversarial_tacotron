{
 "cells": [
  {
   "cell_type": "code",
   "execution_count": 76,
   "metadata": {},
   "outputs": [],
   "source": [
    "texts = [\n",
    "    \"Try these pages.\", \n",
    "    \"In 2009 these reports were collected in the book Chambermaids and Soldiers.\", \n",
    "    \"In later years in films she switched to playing character parts.\", \n",
    "    \"The other bodies are juxtaposed in various unlit areas behind them.\"\n",
    "]"
   ]
  },
  {
   "cell_type": "code",
   "execution_count": 126,
   "metadata": {},
   "outputs": [],
   "source": [
    "from synthesis import Synthesizer\n",
    "from audio.audio_io import load_to_torch, save_from_torch\n",
    "from pathlib import Path\n",
    "from tqdm import tnrange"
   ]
  },
  {
   "cell_type": "code",
   "execution_count": 80,
   "metadata": {},
   "outputs": [],
   "source": [
    "speaker_reference_path = [\n",
    "    Path(\"./log/reference/zs1.wav\"),\n",
    "    Path(\"./log/reference/zs2.wav\"),\n",
    "    Path(\"./log/reference/zs3.wav\"),\n",
    "    Path(\"./log/reference/zs4.wav\"),\n",
    "]\n",
    "\n",
    "residual_reference_path = [\n",
    "    Path(\"./log/reference/zr1.wav\"),\n",
    "    Path(\"./log/reference/zr2.wav\"),\n",
    "    Path(\"./log/reference/zr3.wav\"),\n",
    "    Path(\"./log/reference/zr4.wav\")\n",
    "]"
   ]
  },
  {
   "cell_type": "code",
   "execution_count": 82,
   "metadata": {},
   "outputs": [],
   "source": [
    "speaker_reference_wave = [load_to_torch(p, 16000) for p in speaker_reference_path]\n",
    "residual_reference_wave = [load_to_torch(p, 16000) for p in residual_reference_path]"
   ]
  },
  {
   "cell_type": "code",
   "execution_count": 83,
   "metadata": {},
   "outputs": [
    {
     "name": "stdout",
     "output_type": "stream",
     "text": [
      "\n",
      "Initialising Tacotron Model...\n",
      "\n",
      "Trainable Parameters: 19.806M\n",
      "\n",
      "Initializing STFT Model...\n",
      "\n",
      "\n",
      "Loading Weights: \"./log/checkpoint_142k.pyt\"\n",
      "\n",
      "+---------------+-------------+------+------+----------+------+------+\n",
      "| Tacotron(r=3) | Sample Rate | NFFT | NMel | Speakers | SPKD | NOID |\n",
      "+---------------+-------------+------+------+----------+------+------+\n",
      "|     142k      |    16000    | 2048 | 128  |   200    |  64  |  8   |\n",
      "+---------------+-------------+------+------+----------+------+------+\n",
      " \n"
     ]
    }
   ],
   "source": [
    "synthesizer = Synthesizer(\"./log/checkpoint_142k.pyt\")"
   ]
  },
  {
   "cell_type": "code",
   "execution_count": 85,
   "metadata": {},
   "outputs": [],
   "source": [
    "speaker_latent = [synthesizer.inference_speaker_noise(wave)[0] for wave in speaker_reference_wave]\n",
    "residual_latent = [synthesizer.inference_speaker_noise(wave)[1] for wave in residual_reference_wave]"
   ]
  },
  {
   "cell_type": "code",
   "execution_count": 99,
   "metadata": {},
   "outputs": [],
   "source": [
    "waves = {}"
   ]
  },
  {
   "cell_type": "code",
   "execution_count": 101,
   "metadata": {
    "collapsed": true
   },
   "outputs": [
    {
     "data": {
      "application/vnd.jupyter.widget-view+json": {
       "model_id": "bc7e55ace1d644979732d482f6ad6b91",
       "version_major": 2,
       "version_minor": 0
      },
      "text/plain": [
       "HBox(children=(IntProgress(value=0, max=4), HTML(value='')))"
      ]
     },
     "metadata": {},
     "output_type": "display_data"
    },
    {
     "data": {
      "application/vnd.jupyter.widget-view+json": {
       "model_id": "ac200f175e264dcd8cfb6c9fb5bd21c8",
       "version_major": 2,
       "version_minor": 0
      },
      "text/plain": [
       "HBox(children=(IntProgress(value=0, max=4), HTML(value='')))"
      ]
     },
     "metadata": {},
     "output_type": "display_data"
    },
    {
     "data": {
      "application/vnd.jupyter.widget-view+json": {
       "model_id": "1fcf3083dfcc4bdab55adaec53c0a99a",
       "version_major": 2,
       "version_minor": 0
      },
      "text/plain": [
       "HBox(children=(IntProgress(value=0, max=4), HTML(value='')))"
      ]
     },
     "metadata": {},
     "output_type": "display_data"
    },
    {
     "name": "stdout",
     "output_type": "stream",
     "text": [
      "[1, 1025, 84]\n",
      "[1, 1025, 354]\n",
      "[1, 1025, 243]\n",
      "[1, 1025, 273]\n"
     ]
    },
    {
     "data": {
      "application/vnd.jupyter.widget-view+json": {
       "model_id": "3ebdcccbe00941f99ef33493cb290190",
       "version_major": 2,
       "version_minor": 0
      },
      "text/plain": [
       "HBox(children=(IntProgress(value=0, max=4), HTML(value='')))"
      ]
     },
     "metadata": {},
     "output_type": "display_data"
    },
    {
     "name": "stdout",
     "output_type": "stream",
     "text": [
      "[1, 1025, 84]\n",
      "[1, 1025, 318]\n",
      "[1, 1025, 240]\n",
      "[1, 1025, 264]\n"
     ]
    },
    {
     "data": {
      "application/vnd.jupyter.widget-view+json": {
       "model_id": "2ce13c624f57445e8d9bbfa28b9a2bb3",
       "version_major": 2,
       "version_minor": 0
      },
      "text/plain": [
       "HBox(children=(IntProgress(value=0, max=4), HTML(value='')))"
      ]
     },
     "metadata": {},
     "output_type": "display_data"
    },
    {
     "name": "stdout",
     "output_type": "stream",
     "text": [
      "[1, 1025, 81]\n",
      "[1, 1025, 1152]\n",
      "[1, 1025, 243]\n",
      "[1, 1025, 270]\n"
     ]
    },
    {
     "data": {
      "application/vnd.jupyter.widget-view+json": {
       "model_id": "eeef6a1cfdf84663bcc790b71e340e17",
       "version_major": 2,
       "version_minor": 0
      },
      "text/plain": [
       "HBox(children=(IntProgress(value=0, max=4), HTML(value='')))"
      ]
     },
     "metadata": {},
     "output_type": "display_data"
    },
    {
     "name": "stdout",
     "output_type": "stream",
     "text": [
      "[1, 1025, 81]\n",
      "[1, 1025, 1536]\n",
      "[1, 1025, 249]\n",
      "[1, 1025, 264]\n"
     ]
    },
    {
     "data": {
      "application/vnd.jupyter.widget-view+json": {
       "model_id": "4a9b728142b44d178d1412460700bace",
       "version_major": 2,
       "version_minor": 0
      },
      "text/plain": [
       "HBox(children=(IntProgress(value=0, max=4), HTML(value='')))"
      ]
     },
     "metadata": {},
     "output_type": "display_data"
    },
    {
     "data": {
      "application/vnd.jupyter.widget-view+json": {
       "model_id": "b5b7f16be8d94f22b02351850395265c",
       "version_major": 2,
       "version_minor": 0
      },
      "text/plain": [
       "HBox(children=(IntProgress(value=0, max=4), HTML(value='')))"
      ]
     },
     "metadata": {},
     "output_type": "display_data"
    },
    {
     "name": "stdout",
     "output_type": "stream",
     "text": [
      "[1, 1025, 81]\n",
      "[1, 1025, 297]\n",
      "[1, 1025, 225]\n",
      "[1, 1025, 264]\n"
     ]
    },
    {
     "data": {
      "application/vnd.jupyter.widget-view+json": {
       "model_id": "4599e030ddb3402a8658ee577cacff38",
       "version_major": 2,
       "version_minor": 0
      },
      "text/plain": [
       "HBox(children=(IntProgress(value=0, max=4), HTML(value='')))"
      ]
     },
     "metadata": {},
     "output_type": "display_data"
    },
    {
     "name": "stdout",
     "output_type": "stream",
     "text": [
      "[1, 1025, 81]\n",
      "[1, 1025, 294]\n",
      "[1, 1025, 228]\n",
      "[1, 1025, 261]\n"
     ]
    },
    {
     "data": {
      "application/vnd.jupyter.widget-view+json": {
       "model_id": "3ce4ecf0df7849368fbf6940dff8cd11",
       "version_major": 2,
       "version_minor": 0
      },
      "text/plain": [
       "HBox(children=(IntProgress(value=0, max=4), HTML(value='')))"
      ]
     },
     "metadata": {},
     "output_type": "display_data"
    },
    {
     "name": "stdout",
     "output_type": "stream",
     "text": [
      "[1, 1025, 78]\n",
      "[1, 1025, 288]\n",
      "[1, 1025, 222]\n",
      "[1, 1025, 243]\n"
     ]
    },
    {
     "data": {
      "application/vnd.jupyter.widget-view+json": {
       "model_id": "fe3b9e5de91f45249a96b152545ecd77",
       "version_major": 2,
       "version_minor": 0
      },
      "text/plain": [
       "HBox(children=(IntProgress(value=0, max=4), HTML(value='')))"
      ]
     },
     "metadata": {},
     "output_type": "display_data"
    },
    {
     "name": "stdout",
     "output_type": "stream",
     "text": [
      "[1, 1025, 78]\n",
      "[1, 1025, 291]\n",
      "[1, 1025, 222]\n",
      "[1, 1025, 249]\n"
     ]
    },
    {
     "data": {
      "application/vnd.jupyter.widget-view+json": {
       "model_id": "9e144f2c94a0404785a1f7eb8b735ac4",
       "version_major": 2,
       "version_minor": 0
      },
      "text/plain": [
       "HBox(children=(IntProgress(value=0, max=4), HTML(value='')))"
      ]
     },
     "metadata": {},
     "output_type": "display_data"
    },
    {
     "data": {
      "application/vnd.jupyter.widget-view+json": {
       "model_id": "86e14878a9524501a2a30ae74f3f9751",
       "version_major": 2,
       "version_minor": 0
      },
      "text/plain": [
       "HBox(children=(IntProgress(value=0, max=4), HTML(value='')))"
      ]
     },
     "metadata": {},
     "output_type": "display_data"
    },
    {
     "name": "stdout",
     "output_type": "stream",
     "text": [
      "[1, 1025, 90]\n",
      "[1, 1025, 324]\n",
      "[1, 1025, 246]\n",
      "[1, 1025, 285]\n"
     ]
    },
    {
     "data": {
      "application/vnd.jupyter.widget-view+json": {
       "model_id": "f4a8b1a9b9eb41aeb6dd9ab7898464aa",
       "version_major": 2,
       "version_minor": 0
      },
      "text/plain": [
       "HBox(children=(IntProgress(value=0, max=4), HTML(value='')))"
      ]
     },
     "metadata": {},
     "output_type": "display_data"
    },
    {
     "name": "stdout",
     "output_type": "stream",
     "text": [
      "[1, 1025, 90]\n",
      "[1, 1025, 324]\n",
      "[1, 1025, 249]\n",
      "[1, 1025, 279]\n"
     ]
    },
    {
     "data": {
      "application/vnd.jupyter.widget-view+json": {
       "model_id": "349e8c82732549a6a14902a2328c758b",
       "version_major": 2,
       "version_minor": 0
      },
      "text/plain": [
       "HBox(children=(IntProgress(value=0, max=4), HTML(value='')))"
      ]
     },
     "metadata": {},
     "output_type": "display_data"
    },
    {
     "name": "stdout",
     "output_type": "stream",
     "text": [
      "[1, 1025, 87]\n",
      "[1, 1025, 324]\n",
      "[1, 1025, 246]\n",
      "[1, 1025, 267]\n"
     ]
    },
    {
     "data": {
      "application/vnd.jupyter.widget-view+json": {
       "model_id": "442af320b265436491d6c7e10c447e18",
       "version_major": 2,
       "version_minor": 0
      },
      "text/plain": [
       "HBox(children=(IntProgress(value=0, max=4), HTML(value='')))"
      ]
     },
     "metadata": {},
     "output_type": "display_data"
    },
    {
     "name": "stdout",
     "output_type": "stream",
     "text": [
      "[1, 1025, 87]\n",
      "[1, 1025, 333]\n",
      "[1, 1025, 252]\n",
      "[1, 1025, 267]\n"
     ]
    },
    {
     "data": {
      "application/vnd.jupyter.widget-view+json": {
       "model_id": "324db398725f4393872994c48c2fc332",
       "version_major": 2,
       "version_minor": 0
      },
      "text/plain": [
       "HBox(children=(IntProgress(value=0, max=4), HTML(value='')))"
      ]
     },
     "metadata": {},
     "output_type": "display_data"
    },
    {
     "data": {
      "application/vnd.jupyter.widget-view+json": {
       "model_id": "b2f513ea669b4bebbd11ce6b48d36931",
       "version_major": 2,
       "version_minor": 0
      },
      "text/plain": [
       "HBox(children=(IntProgress(value=0, max=4), HTML(value='')))"
      ]
     },
     "metadata": {},
     "output_type": "display_data"
    },
    {
     "name": "stdout",
     "output_type": "stream",
     "text": [
      "[1, 1025, 81]\n",
      "[1, 1025, 321]\n",
      "[1, 1025, 243]\n",
      "[1, 1025, 264]\n"
     ]
    },
    {
     "data": {
      "application/vnd.jupyter.widget-view+json": {
       "model_id": "9581e24bfc234beeb47cca3052276905",
       "version_major": 2,
       "version_minor": 0
      },
      "text/plain": [
       "HBox(children=(IntProgress(value=0, max=4), HTML(value='')))"
      ]
     },
     "metadata": {},
     "output_type": "display_data"
    },
    {
     "name": "stdout",
     "output_type": "stream",
     "text": [
      "[1, 1025, 81]\n",
      "[1, 1025, 318]\n",
      "[1, 1025, 243]\n",
      "[1, 1025, 264]\n"
     ]
    },
    {
     "data": {
      "application/vnd.jupyter.widget-view+json": {
       "model_id": "2ac4719045e44bb689c4fe956d129af3",
       "version_major": 2,
       "version_minor": 0
      },
      "text/plain": [
       "HBox(children=(IntProgress(value=0, max=4), HTML(value='')))"
      ]
     },
     "metadata": {},
     "output_type": "display_data"
    },
    {
     "name": "stdout",
     "output_type": "stream",
     "text": [
      "[1, 1025, 78]\n",
      "[1, 1025, 315]\n",
      "[1, 1025, 234]\n",
      "[1, 1025, 255]\n"
     ]
    },
    {
     "data": {
      "application/vnd.jupyter.widget-view+json": {
       "model_id": "be1a515ce6144af981e940615102c412",
       "version_major": 2,
       "version_minor": 0
      },
      "text/plain": [
       "HBox(children=(IntProgress(value=0, max=4), HTML(value='')))"
      ]
     },
     "metadata": {},
     "output_type": "display_data"
    },
    {
     "name": "stdout",
     "output_type": "stream",
     "text": [
      "[1, 1025, 75]\n",
      "[1, 1025, 336]\n",
      "[1, 1025, 246]\n",
      "[1, 1025, 264]\n",
      "\n"
     ]
    }
   ],
   "source": [
    "for speaker in tnrange(4):\n",
    "    for residual in tnrange(4):\n",
    "        for text in tnrange(4):\n",
    "            waves[(speaker, residual, text)] = synthesizer.synthesis(texts[text], speaker_latent[speaker], residual_latent[residual])"
   ]
  },
  {
   "cell_type": "code",
   "execution_count": 102,
   "metadata": {},
   "outputs": [],
   "source": [
    "from IPython.display import Audio"
   ]
  },
  {
   "cell_type": "code",
   "execution_count": 125,
   "metadata": {},
   "outputs": [
    {
     "data": {
      "text/html": [
       "\n",
       "                <audio  controls=\"controls\" >\n",
       "                    <source src=\"data:audio/wav;base64,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\" type=\"audio/wav\" />\n",
       "                    Your browser does not support the audio element.\n",
       "                </audio>\n",
       "              "
      ],
      "text/plain": [
       "<IPython.lib.display.Audio object>"
      ]
     },
     "execution_count": 125,
     "metadata": {},
     "output_type": "execute_result"
    }
   ],
   "source": [
    "Audio(waves[(0, 1, 0)][0].cpu().numpy(), rate=16000)"
   ]
  },
  {
   "cell_type": "code",
   "execution_count": 128,
   "metadata": {},
   "outputs": [],
   "source": [
    "for speaker in range(4):\n",
    "    for residual in range(4):\n",
    "        for text in range(4):\n",
    "            save_from_torch(waves[(speaker, residual, text)][0].cpu(), f\"./log/synthesis/wave/{speaker}{residual}{text}.wav\", 16000)"
   ]
  },
  {
   "cell_type": "code",
   "execution_count": null,
   "metadata": {},
   "outputs": [],
   "source": []
  }
 ],
 "metadata": {
  "kernelspec": {
   "display_name": "Python 3",
   "language": "python",
   "name": "python3"
  },
  "language_info": {
   "codemirror_mode": {
    "name": "ipython",
    "version": 3
   },
   "file_extension": ".py",
   "mimetype": "text/x-python",
   "name": "python",
   "nbconvert_exporter": "python",
   "pygments_lexer": "ipython3",
   "version": "3.7.3"
  }
 },
 "nbformat": 4,
 "nbformat_minor": 2
}
